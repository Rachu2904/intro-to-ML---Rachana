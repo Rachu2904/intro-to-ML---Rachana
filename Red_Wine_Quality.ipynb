{
  "nbformat": 4,
  "nbformat_minor": 0,
  "metadata": {
    "colab": {
      "name": "Red Wine Quality",
      "provenance": []
    },
    "kernelspec": {
      "name": "python3",
      "display_name": "Python 3"
    }
  },
  "cells": [
    {
      "cell_type": "markdown",
      "metadata": {
        "id": "AkgP294B-mP2",
        "colab_type": "text"
      },
      "source": [
        "* Red Wine Quality Using Classification Model"
      ]
    },
    {
      "cell_type": "code",
      "metadata": {
        "id": "fUOXkmRUaItB",
        "colab_type": "code",
        "colab": {}
      },
      "source": [
        "import pandas as pd\n",
        "import numpy as np\n",
        "import matplotlib.pyplot as plt"
      ],
      "execution_count": 1,
      "outputs": []
    },
    {
      "cell_type": "code",
      "metadata": {
        "id": "-Y9A2Ev1ap20",
        "colab_type": "code",
        "colab": {}
      },
      "source": [
        "dataset = pd.read_csv('/content/winequality-red.csv')"
      ],
      "execution_count": 2,
      "outputs": []
    },
    {
      "cell_type": "code",
      "metadata": {
        "id": "6j1wFg_Haz8C",
        "colab_type": "code",
        "colab": {
          "base_uri": "https://localhost:8080/",
          "height": 340
        },
        "outputId": "51ea85e1-294e-4aad-bea4-2ca3a2f7fd6b"
      },
      "source": [
        "dataset.info()"
      ],
      "execution_count": 3,
      "outputs": [
        {
          "output_type": "stream",
          "text": [
            "<class 'pandas.core.frame.DataFrame'>\n",
            "RangeIndex: 1599 entries, 0 to 1598\n",
            "Data columns (total 12 columns):\n",
            " #   Column                Non-Null Count  Dtype  \n",
            "---  ------                --------------  -----  \n",
            " 0   fixed acidity         1599 non-null   float64\n",
            " 1   volatile acidity      1599 non-null   float64\n",
            " 2   citric acid           1599 non-null   float64\n",
            " 3   residual sugar        1599 non-null   float64\n",
            " 4   chlorides             1599 non-null   float64\n",
            " 5   free sulfur dioxide   1599 non-null   float64\n",
            " 6   total sulfur dioxide  1599 non-null   float64\n",
            " 7   density               1599 non-null   float64\n",
            " 8   pH                    1599 non-null   float64\n",
            " 9   sulphates             1599 non-null   float64\n",
            " 10  alcohol               1599 non-null   float64\n",
            " 11  quality               1599 non-null   int64  \n",
            "dtypes: float64(11), int64(1)\n",
            "memory usage: 150.0 KB\n"
          ],
          "name": "stdout"
        }
      ]
    },
    {
      "cell_type": "code",
      "metadata": {
        "id": "4IhIUlM9cuTz",
        "colab_type": "code",
        "colab": {}
      },
      "source": [
        "X = dataset.iloc[:,1:-1].values\n",
        "y = dataset.iloc[:,-1].values"
      ],
      "execution_count": 4,
      "outputs": []
    },
    {
      "cell_type": "code",
      "metadata": {
        "id": "xIZXs5oreIPm",
        "colab_type": "code",
        "colab": {}
      },
      "source": [
        "from sklearn.model_selection import train_test_split"
      ],
      "execution_count": 5,
      "outputs": []
    },
    {
      "cell_type": "code",
      "metadata": {
        "id": "4lqyfQOAey0V",
        "colab_type": "code",
        "colab": {}
      },
      "source": [
        "X_train,X_test,y_train,y_test = train_test_split(X,y,test_size=0.20)"
      ],
      "execution_count": 6,
      "outputs": []
    },
    {
      "cell_type": "code",
      "metadata": {
        "id": "iZM2OKllmvUq",
        "colab_type": "code",
        "colab": {}
      },
      "source": [
        "from sklearn.preprocessing import StandardScaler"
      ],
      "execution_count": 7,
      "outputs": []
    },
    {
      "cell_type": "code",
      "metadata": {
        "id": "IyEWXr1znD87",
        "colab_type": "code",
        "colab": {}
      },
      "source": [
        "sc = StandardScaler()"
      ],
      "execution_count": 8,
      "outputs": []
    },
    {
      "cell_type": "code",
      "metadata": {
        "id": "zMqhuSxznKZD",
        "colab_type": "code",
        "colab": {}
      },
      "source": [
        "X_train = sc.fit_transform(X_train)\n",
        "X_test = sc.transform(X_test)"
      ],
      "execution_count": 9,
      "outputs": []
    },
    {
      "cell_type": "code",
      "metadata": {
        "id": "Ybhg076shDIh",
        "colab_type": "code",
        "colab": {}
      },
      "source": [
        "from sklearn.linear_model import LogisticRegression\n",
        "from sklearn.neighbors import KNeighborsClassifier\n",
        "from sklearn.tree import DecisionTreeClassifier\n",
        "from sklearn.ensemble import RandomForestClassifier\n",
        "from sklearn.svm import SVC"
      ],
      "execution_count": 10,
      "outputs": []
    },
    {
      "cell_type": "code",
      "metadata": {
        "id": "P6yY8H7Ria7E",
        "colab_type": "code",
        "colab": {}
      },
      "source": [
        "l_cla = LogisticRegression()\n",
        "k_cla = KNeighborsClassifier()\n",
        "d_cla = DecisionTreeClassifier()\n",
        "r_cla = RandomForestClassifier()\n",
        "s_cla = SVC(kernel='linear')\n",
        "ks_cla= SVC(kernel='rbf')"
      ],
      "execution_count": 11,
      "outputs": []
    },
    {
      "cell_type": "code",
      "metadata": {
        "id": "_hEvaUT-jHV6",
        "colab_type": "code",
        "colab": {
          "base_uri": "https://localhost:8080/",
          "height": 85
        },
        "outputId": "1d42c1a7-9e64-4037-a760-28ce5b700c63"
      },
      "source": [
        "l_cla.fit(X_train, y_train)\n",
        "k_cla.fit(X_train, y_train)\n",
        "d_cla.fit(X_train, y_train)\n",
        "r_cla.fit(X_train, y_train)\n",
        "s_cla.fit(X_train, y_train)\n",
        "ks_cla.fit(X_train, y_train)"
      ],
      "execution_count": 12,
      "outputs": [
        {
          "output_type": "execute_result",
          "data": {
            "text/plain": [
              "SVC(C=1.0, break_ties=False, cache_size=200, class_weight=None, coef0=0.0,\n",
              "    decision_function_shape='ovr', degree=3, gamma='scale', kernel='rbf',\n",
              "    max_iter=-1, probability=False, random_state=None, shrinking=True,\n",
              "    tol=0.001, verbose=False)"
            ]
          },
          "metadata": {
            "tags": []
          },
          "execution_count": 12
        }
      ]
    },
    {
      "cell_type": "code",
      "metadata": {
        "id": "7Q8uUQpJj6Pj",
        "colab_type": "code",
        "colab": {}
      },
      "source": [
        "l_pred = l_cla.predict(X_test)\n",
        "k_pred = k_cla.predict(X_test)\n",
        "d_pred = d_cla.predict(X_test)\n",
        "r_pred = r_cla.predict(X_test)\n",
        "s_pred = s_cla.predict(X_test)\n",
        "ks_pred = ks_cla.predict(X_test)"
      ],
      "execution_count": 13,
      "outputs": []
    },
    {
      "cell_type": "code",
      "metadata": {
        "id": "g5qOCvevll35",
        "colab_type": "code",
        "colab": {}
      },
      "source": [
        "from sklearn.metrics import confusion_matrix"
      ],
      "execution_count": 14,
      "outputs": []
    },
    {
      "cell_type": "code",
      "metadata": {
        "id": "Hf7G7TBamCQR",
        "colab_type": "code",
        "colab": {}
      },
      "source": [
        "l_c = confusion_matrix(y_test,l_pred)\n",
        "k_c = confusion_matrix(y_test, k_pred)\n",
        "d_c = confusion_matrix(y_test, d_pred)\n",
        "r_c = confusion_matrix(y_test, r_pred)\n",
        "s_c = confusion_matrix(y_test, s_pred)\n",
        "ks_c = confusion_matrix(y_test, ks_pred)\n"
      ],
      "execution_count": 15,
      "outputs": []
    },
    {
      "cell_type": "code",
      "metadata": {
        "id": "Xht8lvvZnuOr",
        "colab_type": "code",
        "colab": {
          "base_uri": "https://localhost:8080/",
          "height": 119
        },
        "outputId": "7eb58e46-0cd2-4399-b9a0-2a1b8179e274"
      },
      "source": [
        "l_c"
      ],
      "execution_count": 16,
      "outputs": [
        {
          "output_type": "execute_result",
          "data": {
            "text/plain": [
              "array([[ 0,  0,  1,  0,  0,  0],\n",
              "       [ 0,  0,  4,  3,  0,  0],\n",
              "       [ 1,  0, 92, 43,  2,  0],\n",
              "       [ 0,  0, 45, 76, 13,  0],\n",
              "       [ 0,  0,  6, 19, 12,  0],\n",
              "       [ 0,  0,  0,  1,  2,  0]])"
            ]
          },
          "metadata": {
            "tags": []
          },
          "execution_count": 16
        }
      ]
    },
    {
      "cell_type": "code",
      "metadata": {
        "id": "pRdRSe3_nxCR",
        "colab_type": "code",
        "colab": {
          "base_uri": "https://localhost:8080/",
          "height": 119
        },
        "outputId": "5c01c083-f849-462b-fcfc-80340f7bef22"
      },
      "source": [
        "k_c"
      ],
      "execution_count": 17,
      "outputs": [
        {
          "output_type": "execute_result",
          "data": {
            "text/plain": [
              "array([[ 0,  0,  0,  1,  0,  0],\n",
              "       [ 0,  0,  6,  1,  0,  0],\n",
              "       [ 1,  3, 88, 41,  5,  0],\n",
              "       [ 0,  0, 35, 80, 19,  0],\n",
              "       [ 0,  0,  9, 12, 16,  0],\n",
              "       [ 0,  0,  0,  1,  2,  0]])"
            ]
          },
          "metadata": {
            "tags": []
          },
          "execution_count": 17
        }
      ]
    },
    {
      "cell_type": "code",
      "metadata": {
        "id": "S2afr4oDnyiX",
        "colab_type": "code",
        "colab": {
          "base_uri": "https://localhost:8080/",
          "height": 119
        },
        "outputId": "24da0b5c-0c1c-4329-f8d0-c48e77995cc0"
      },
      "source": [
        "d_c"
      ],
      "execution_count": 18,
      "outputs": [
        {
          "output_type": "execute_result",
          "data": {
            "text/plain": [
              "array([[ 0,  0,  1,  0,  0,  0],\n",
              "       [ 0,  1,  4,  2,  0,  0],\n",
              "       [ 0,  4, 96, 33,  5,  0],\n",
              "       [ 0,  3, 32, 81, 17,  1],\n",
              "       [ 0,  0,  2, 12, 22,  1],\n",
              "       [ 0,  0,  0,  2,  0,  1]])"
            ]
          },
          "metadata": {
            "tags": []
          },
          "execution_count": 18
        }
      ]
    },
    {
      "cell_type": "code",
      "metadata": {
        "id": "i3ApWSBcnzuE",
        "colab_type": "code",
        "colab": {
          "base_uri": "https://localhost:8080/",
          "height": 119
        },
        "outputId": "584fcd2e-929a-4bff-d0cb-33037a392ce3"
      },
      "source": [
        "r_c"
      ],
      "execution_count": 19,
      "outputs": [
        {
          "output_type": "execute_result",
          "data": {
            "text/plain": [
              "array([[  0,   0,   1,   0,   0,   0],\n",
              "       [  0,   0,   5,   2,   0,   0],\n",
              "       [  0,   1, 102,  33,   2,   0],\n",
              "       [  0,   0,  35,  88,  11,   0],\n",
              "       [  0,   0,   3,  12,  22,   0],\n",
              "       [  0,   0,   0,   2,   1,   0]])"
            ]
          },
          "metadata": {
            "tags": []
          },
          "execution_count": 19
        }
      ]
    },
    {
      "cell_type": "code",
      "metadata": {
        "id": "Gay4vTbvn1zr",
        "colab_type": "code",
        "colab": {
          "base_uri": "https://localhost:8080/",
          "height": 119
        },
        "outputId": "5a57d4a0-ff01-4dbb-9461-314687c62b22"
      },
      "source": [
        "s_c"
      ],
      "execution_count": 20,
      "outputs": [
        {
          "output_type": "execute_result",
          "data": {
            "text/plain": [
              "array([[ 0,  0,  1,  0,  0,  0],\n",
              "       [ 0,  0,  5,  2,  0,  0],\n",
              "       [ 0,  0, 94, 44,  0,  0],\n",
              "       [ 0,  0, 46, 88,  0,  0],\n",
              "       [ 0,  0,  5, 32,  0,  0],\n",
              "       [ 0,  0,  0,  3,  0,  0]])"
            ]
          },
          "metadata": {
            "tags": []
          },
          "execution_count": 20
        }
      ]
    },
    {
      "cell_type": "code",
      "metadata": {
        "id": "Bl5VhblKn27P",
        "colab_type": "code",
        "colab": {
          "base_uri": "https://localhost:8080/",
          "height": 119
        },
        "outputId": "232189fb-d415-4e16-a0ae-88c5aa445113"
      },
      "source": [
        "ks_c"
      ],
      "execution_count": 21,
      "outputs": [
        {
          "output_type": "execute_result",
          "data": {
            "text/plain": [
              "array([[ 0,  0,  1,  0,  0,  0],\n",
              "       [ 0,  0,  6,  1,  0,  0],\n",
              "       [ 0,  0, 95, 42,  1,  0],\n",
              "       [ 0,  0, 45, 77, 12,  0],\n",
              "       [ 0,  0,  5, 21, 11,  0],\n",
              "       [ 0,  0,  0,  3,  0,  0]])"
            ]
          },
          "metadata": {
            "tags": []
          },
          "execution_count": 21
        }
      ]
    },
    {
      "cell_type": "code",
      "metadata": {
        "id": "V5AcVgsJ0YSZ",
        "colab_type": "code",
        "colab": {}
      },
      "source": [
        "from sklearn.metrics import accuracy_score"
      ],
      "execution_count": 22,
      "outputs": []
    },
    {
      "cell_type": "code",
      "metadata": {
        "id": "RJ2PRZED0n06",
        "colab_type": "code",
        "colab": {}
      },
      "source": [
        "l_a = accuracy_score(y_test, l_pred)\n",
        "k_a = accuracy_score(y_test, k_pred)\n",
        "d_a = accuracy_score(y_test, d_pred)\n",
        "r_a = accuracy_score(y_test, r_pred)\n",
        "s_a = accuracy_score(y_test, s_pred)\n",
        "ks_a = accuracy_score(y_test, ks_pred)"
      ],
      "execution_count": 23,
      "outputs": []
    },
    {
      "cell_type": "code",
      "metadata": {
        "id": "L0OOMVQ6N3QR",
        "colab_type": "code",
        "colab": {
          "base_uri": "https://localhost:8080/",
          "height": 54
        },
        "outputId": "f2c85059-b0d5-4d8a-8cdd-711a42dd8dda"
      },
      "source": [
        "print('Logistic Regression: ' + str(l_a) + '\\\\nKNN: ' + str(k_a) + '\\\\nDecision Tree: ' + str(d_a) + '\\\\nRandom Forest: ' + str(r_a) + '\\\\nLinear SVC: ' + str(s_a) + '\\\\nKernel SVC: ' + str(l_a))"
      ],
      "execution_count": 24,
      "outputs": [
        {
          "output_type": "stream",
          "text": [
            "Logistic Regression: 0.5625\\nKNN: 0.575\\nDecision Tree: 0.628125\\nRandom Forest: 0.6625\\nLinear SVC: 0.56875\\nKernel SVC: 0.5625\n"
          ],
          "name": "stdout"
        }
      ]
    },
    {
      "cell_type": "markdown",
      "metadata": {
        "id": "w895n2Hg_xcc",
        "colab_type": "text"
      },
      "source": [
        "* Red Wine Quality Using Regression Model"
      ]
    },
    {
      "cell_type": "code",
      "metadata": {
        "id": "dHfmQMTO3Bk7",
        "colab_type": "code",
        "colab": {}
      },
      "source": [
        "import pandas as pd\n",
        "import numpy as np"
      ],
      "execution_count": 25,
      "outputs": []
    },
    {
      "cell_type": "code",
      "metadata": {
        "id": "RvuopXOYATf-",
        "colab_type": "code",
        "colab": {}
      },
      "source": [
        "dataset = pd.read_csv('/content/winequality-red.csv')"
      ],
      "execution_count": 26,
      "outputs": []
    },
    {
      "cell_type": "code",
      "metadata": {
        "id": "Glbj87XeRbKX",
        "colab_type": "code",
        "colab": {
          "base_uri": "https://localhost:8080/",
          "height": 340
        },
        "outputId": "66add0ec-9ad8-428d-d87f-5a9c6f85959a"
      },
      "source": [
        "dataset.info()"
      ],
      "execution_count": 27,
      "outputs": [
        {
          "output_type": "stream",
          "text": [
            "<class 'pandas.core.frame.DataFrame'>\n",
            "RangeIndex: 1599 entries, 0 to 1598\n",
            "Data columns (total 12 columns):\n",
            " #   Column                Non-Null Count  Dtype  \n",
            "---  ------                --------------  -----  \n",
            " 0   fixed acidity         1599 non-null   float64\n",
            " 1   volatile acidity      1599 non-null   float64\n",
            " 2   citric acid           1599 non-null   float64\n",
            " 3   residual sugar        1599 non-null   float64\n",
            " 4   chlorides             1599 non-null   float64\n",
            " 5   free sulfur dioxide   1599 non-null   float64\n",
            " 6   total sulfur dioxide  1599 non-null   float64\n",
            " 7   density               1599 non-null   float64\n",
            " 8   pH                    1599 non-null   float64\n",
            " 9   sulphates             1599 non-null   float64\n",
            " 10  alcohol               1599 non-null   float64\n",
            " 11  quality               1599 non-null   int64  \n",
            "dtypes: float64(11), int64(1)\n",
            "memory usage: 150.0 KB\n"
          ],
          "name": "stdout"
        }
      ]
    },
    {
      "cell_type": "code",
      "metadata": {
        "id": "k-BqW31tRl69",
        "colab_type": "code",
        "colab": {}
      },
      "source": [
        "X = dataset.iloc[:,:-1].values\n",
        "y = dataset.iloc[:,-1].values"
      ],
      "execution_count": 28,
      "outputs": []
    },
    {
      "cell_type": "code",
      "metadata": {
        "id": "qgCReICSS_2o",
        "colab_type": "code",
        "colab": {}
      },
      "source": [
        "from sklearn.model_selection import train_test_split"
      ],
      "execution_count": 29,
      "outputs": []
    },
    {
      "cell_type": "code",
      "metadata": {
        "id": "Uf1MPbDbTMy4",
        "colab_type": "code",
        "colab": {}
      },
      "source": [
        "X_train, X_test, y_train, y_test = train_test_split(X, y, test_size=0.2)"
      ],
      "execution_count": 30,
      "outputs": []
    },
    {
      "cell_type": "code",
      "metadata": {
        "id": "yAj0avfGTaCL",
        "colab_type": "code",
        "colab": {}
      },
      "source": [
        "from sklearn.linear_model import LinearRegression\n",
        "from sklearn.preprocessing import PolynomialFeatures\n",
        "from sklearn.tree import DecisionTreeRegressor\n",
        "from sklearn.ensemble import RandomForestRegressor"
      ],
      "execution_count": 31,
      "outputs": []
    },
    {
      "cell_type": "code",
      "metadata": {
        "id": "3vchvUCIUeDE",
        "colab_type": "code",
        "colab": {}
      },
      "source": [
        "m_reg = LinearRegression()\n",
        "p_reg = LinearRegression()\n",
        "d_reg = DecisionTreeRegressor()\n",
        "r_reg = RandomForestRegressor()"
      ],
      "execution_count": 32,
      "outputs": []
    },
    {
      "cell_type": "code",
      "metadata": {
        "id": "PTF7PF4nVNwY",
        "colab_type": "code",
        "colab": {}
      },
      "source": [
        "X_poly = PolynomialFeatures(degree = 5)\n",
        "X_poly = X_poly.fit_transform(X_train)"
      ],
      "execution_count": 33,
      "outputs": []
    },
    {
      "cell_type": "code",
      "metadata": {
        "id": "5FxESutTVhTT",
        "colab_type": "code",
        "colab": {
          "base_uri": "https://localhost:8080/",
          "height": 136
        },
        "outputId": "c13262fc-6e62-40fb-9e09-b26fa09c401c"
      },
      "source": [
        "m_reg.fit(X_train, y_train)\n",
        "p_reg.fit(X_train, y_train)\n",
        "d_reg.fit(X_train, y_train)\n",
        "r_reg.fit(X_train, y_train)"
      ],
      "execution_count": 34,
      "outputs": [
        {
          "output_type": "execute_result",
          "data": {
            "text/plain": [
              "RandomForestRegressor(bootstrap=True, ccp_alpha=0.0, criterion='mse',\n",
              "                      max_depth=None, max_features='auto', max_leaf_nodes=None,\n",
              "                      max_samples=None, min_impurity_decrease=0.0,\n",
              "                      min_impurity_split=None, min_samples_leaf=1,\n",
              "                      min_samples_split=2, min_weight_fraction_leaf=0.0,\n",
              "                      n_estimators=100, n_jobs=None, oob_score=False,\n",
              "                      random_state=None, verbose=0, warm_start=False)"
            ]
          },
          "metadata": {
            "tags": []
          },
          "execution_count": 34
        }
      ]
    },
    {
      "cell_type": "code",
      "metadata": {
        "id": "wTRXw_j0V8OA",
        "colab_type": "code",
        "colab": {}
      },
      "source": [
        "temp = PolynomialFeatures(degree = 5)\n",
        "temp = temp.fit_transform(X_test)"
      ],
      "execution_count": 35,
      "outputs": []
    },
    {
      "cell_type": "code",
      "metadata": {
        "id": "SvTtQbS2WZXB",
        "colab_type": "code",
        "colab": {}
      },
      "source": [
        "m_pred = m_reg.predict(X_test)\n",
        "p_pred = p_reg.predict(X_test)\n",
        "d_pred = d_reg.predict(X_test)\n",
        "r_pred = r_reg.predict(X_test)"
      ],
      "execution_count": 36,
      "outputs": []
    },
    {
      "cell_type": "code",
      "metadata": {
        "id": "oBq3AAUiW0I3",
        "colab_type": "code",
        "colab": {}
      },
      "source": [
        "from sklearn.metrics import r2_score"
      ],
      "execution_count": 37,
      "outputs": []
    },
    {
      "cell_type": "code",
      "metadata": {
        "id": "GgHphVVLW7nS",
        "colab_type": "code",
        "colab": {}
      },
      "source": [
        "m = r2_score(y_test, m_pred)\n",
        "p = r2_score(y_test, p_pred)\n",
        "d = r2_score(y_test, d_pred)\n",
        "r = r2_score(y_test, r_pred)"
      ],
      "execution_count": 38,
      "outputs": []
    },
    {
      "cell_type": "code",
      "metadata": {
        "id": "OySEP7nrXVZL",
        "colab_type": "code",
        "colab": {
          "base_uri": "https://localhost:8080/",
          "height": 34
        },
        "outputId": "50e553b4-89bb-473a-e3aa-9c237ce6a583"
      },
      "source": [
        "print(m, p, d, r)"
      ],
      "execution_count": 39,
      "outputs": [
        {
          "output_type": "stream",
          "text": [
            "0.34024214913684203 0.34024214913684203 0.033864541832669404 0.5045328685258963\n"
          ],
          "name": "stdout"
        }
      ]
    },
    {
      "cell_type": "markdown",
      "metadata": {
        "id": "lCbcMo7OXh4e",
        "colab_type": "text"
      },
      "source": [
        "By comparing both models the Regression model is less compared to theClassification model. "
      ]
    },
    {
      "cell_type": "markdown",
      "metadata": {
        "id": "ZnPumPo8eZP0",
        "colab_type": "text"
      },
      "source": [
        "So from the above results, We can conclude that Classification model is best fit for our dataset."
      ]
    },
    {
      "cell_type": "markdown",
      "metadata": {
        "id": "-jnmhtAEe745",
        "colab_type": "text"
      },
      "source": [
        "Thank you"
      ]
    },
    {
      "cell_type": "markdown",
      "metadata": {
        "id": "C_WGBx6FfG1H",
        "colab_type": "text"
      },
      "source": [
        "CHEERALA RACHANA"
      ]
    },
    {
      "cell_type": "code",
      "metadata": {
        "id": "5v45v3daXZeO",
        "colab_type": "code",
        "colab": {}
      },
      "source": [
        ""
      ],
      "execution_count": 39,
      "outputs": []
    }
  ]
}